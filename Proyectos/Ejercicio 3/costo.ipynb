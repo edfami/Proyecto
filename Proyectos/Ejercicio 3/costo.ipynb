{
 "cells": [
  {
   "cell_type": "code",
   "execution_count": 1,
   "metadata": {},
   "outputs": [],
   "source": [
    "import time\n",
    "import pandas as pd\n",
    "import numpy as np"
   ]
  },
  {
   "cell_type": "code",
   "execution_count": 2,
   "metadata": {},
   "outputs": [],
   "source": [
    "with open('costos.txt') as costos_ventas:\n",
    "    costos_de_ventas = list(map(float, costos_ventas.read().split('\\n')))"
   ]
  },
  {
   "cell_type": "code",
   "execution_count": 10,
   "metadata": {
    "tags": []
   },
   "outputs": [
    {
     "name": "stdout",
     "output_type": "stream",
     "text": [
      "La inversion total es: 32869928.0\n",
      "Duracion: 2.758622169494629 segundos\n"
     ]
    }
   ],
   "source": [
    "inicio = time.time()\n",
    "inversiones = 0\n",
    "\n",
    "\n",
    "for ticket in costos_de_ventas:\n",
    "    if int(ticket) <= 25:\n",
    "        inversiones = float(ticket) + float(inversiones)\n",
    "\n",
    "\n",
    "print(\"La inversion total es: \" + str(inversiones))\n",
    "print('Duracion: {} segundos'.format(time.time() - inicio))"
   ]
  },
  {
   "cell_type": "code",
   "execution_count": 11,
   "metadata": {
    "tags": []
   },
   "outputs": [
    {
     "name": "stdout",
     "output_type": "stream",
     "text": [
      "La inversion total es: 32869928\n",
      "Duracion: 0.5351200103759766 segundos\n"
     ]
    }
   ],
   "source": [
    "inicio = time.time()\n",
    "\n",
    "inversiones = np.array(costos_de_ventas, int)\n",
    "\n",
    "ticket = np.sum(inversiones, where=(inversiones <= 25))\n",
    "\n",
    "print(\"La inversion total es: \" + str(ticket))\n",
    "print('Duracion: {} segundos'.format(time.time() - inicio))\n",
    "\n",
    "\n",
    "\n"
   ]
  },
  {
   "cell_type": "code",
   "execution_count": 12,
   "metadata": {
    "scrolled": false
   },
   "outputs": [
    {
     "name": "stdout",
     "output_type": "stream",
     "text": [
      "La inversion con iva 28917921.530037772, sin iva 32869928.0 \n",
      "Duracion: 3.4007644653320312 segundos\n"
     ]
    }
   ],
   "source": [
    "inicio = time.time()\n",
    "inversiones = []\n",
    "inversion_con_iva = []\n",
    "\n",
    "for producto_elegido in costos_de_ventas:\n",
    "    iva = producto_elegido*1.13\n",
    "    \n",
    "    if iva <= 25:\n",
    "        inversion_con_iva.append(iva)\n",
    "\n",
    "for ticket in costos_de_ventas:\n",
    "    if int(ticket) <= 25:\n",
    "        inversiones.append(ticket)\n",
    "        \n",
    "\n",
    "\n",
    "print(\"La inversion con iva {0}, sin iva {1} \" .format(sum(inversion_con_iva),sum(inversiones)))\n",
    "print('Duracion: {} segundos'.format(time.time() - inicio))"
   ]
  },
  {
   "cell_type": "code",
   "execution_count": null,
   "metadata": {},
   "outputs": [],
   "source": []
  }
 ],
 "metadata": {
  "kernelspec": {
   "display_name": "Python 3",
   "language": "python",
   "name": "python3"
  },
  "language_info": {
   "codemirror_mode": {
    "name": "ipython",
    "version": 3
   },
   "file_extension": ".py",
   "mimetype": "text/x-python",
   "name": "python",
   "nbconvert_exporter": "python",
   "pygments_lexer": "ipython3",
   "version": "3.8.5"
  }
 },
 "nbformat": 4,
 "nbformat_minor": 2
}
